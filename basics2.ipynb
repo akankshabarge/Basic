{
  "nbformat": 4,
  "nbformat_minor": 0,
  "metadata": {
    "colab": {
      "provenance": []
    },
    "kernelspec": {
      "name": "python3",
      "display_name": "Python 3"
    },
    "language_info": {
      "name": "python"
    }
  },
  "cells": [
    {
      "cell_type": "code",
      "execution_count": null,
      "metadata": {
        "colab": {
          "base_uri": "https://localhost:8080/"
        },
        "id": "kOhuTo8WaKlS",
        "outputId": "21c5e2bd-03b4-482c-e237-588466ee74d3"
      },
      "outputs": [
        {
          "output_type": "stream",
          "name": "stdout",
          "text": [
            "0\n",
            "1\n",
            "2\n",
            "3\n",
            "4\n"
          ]
        }
      ],
      "source": [
        "#for Loop\n",
        "for i in range(5):\n",
        "  print(i)"
      ]
    },
    {
      "cell_type": "code",
      "source": [
        "for i in range(2,5):\n",
        "  print(i)"
      ],
      "metadata": {
        "colab": {
          "base_uri": "https://localhost:8080/"
        },
        "id": "Ov5e_JCVbWLK",
        "outputId": "371af4ff-6bc4-49b3-fcf9-06919959ba39"
      },
      "execution_count": null,
      "outputs": [
        {
          "output_type": "stream",
          "name": "stdout",
          "text": [
            "2\n",
            "3\n",
            "4\n"
          ]
        }
      ]
    },
    {
      "cell_type": "code",
      "source": [
        "for i in range(1,10,2):\n",
        "  print(i)"
      ],
      "metadata": {
        "colab": {
          "base_uri": "https://localhost:8080/"
        },
        "id": "qi091rlxbhR9",
        "outputId": "5f386013-0062-427d-b529-7e498af7c60c"
      },
      "execution_count": null,
      "outputs": [
        {
          "output_type": "stream",
          "name": "stdout",
          "text": [
            "1\n",
            "3\n",
            "5\n",
            "7\n",
            "9\n"
          ]
        }
      ]
    },
    {
      "cell_type": "code",
      "source": [
        "Flist=[\"apple\",\"mango\",\"grapes\",\"banana\"]\n",
        "for fruits in Flist:\n",
        "  print(fruits)"
      ],
      "metadata": {
        "colab": {
          "base_uri": "https://localhost:8080/"
        },
        "id": "PkNgKp9Obs_N",
        "outputId": "1b672020-7725-4221-ad5b-ecfd7969ce32"
      },
      "execution_count": null,
      "outputs": [
        {
          "output_type": "stream",
          "name": "stdout",
          "text": [
            "apple\n",
            "mango\n",
            "grapes\n",
            "banana\n"
          ]
        }
      ]
    },
    {
      "cell_type": "code",
      "source": [
        "Flist=[\"apple\",\"mango\",\"grapes\",\"banana\"]\n",
        "for fruits in range(len(Flist)):\n",
        "  print(Flist[fruits])\n",
        "print(len(Flist))"
      ],
      "metadata": {
        "id": "wfarW7LDdDpy",
        "colab": {
          "base_uri": "https://localhost:8080/"
        },
        "outputId": "fa2ab7b4-1e06-40bb-c2b2-fa2c82e9113b"
      },
      "execution_count": null,
      "outputs": [
        {
          "output_type": "stream",
          "name": "stdout",
          "text": [
            "apple\n",
            "mango\n",
            "grapes\n",
            "banana\n",
            "4\n"
          ]
        }
      ]
    },
    {
      "cell_type": "code",
      "source": [
        "#Nested loop\n",
        "#*\n",
        "#**\n",
        "#***\n",
        "#****\n",
        "#*****\n",
        "rows=5\n",
        "for i in range(rows):\n",
        "  for j in range(i+1):\n",
        "    print(\"*\",end=\" \")\n",
        "  print()"
      ],
      "metadata": {
        "colab": {
          "base_uri": "https://localhost:8080/"
        },
        "id": "xmCxU7vsC6jn",
        "outputId": "cd87cccc-0ddd-4f37-90d5-c33868fa9133"
      },
      "execution_count": null,
      "outputs": [
        {
          "output_type": "stream",
          "name": "stdout",
          "text": [
            "* \n",
            "* * \n",
            "* * * \n",
            "* * * * \n",
            "* * * * * \n"
          ]
        }
      ]
    },
    {
      "cell_type": "code",
      "source": [
        "count=1\n",
        "while count<=5:\n",
        "  print(count)\n",
        "  count +=1"
      ],
      "metadata": {
        "colab": {
          "base_uri": "https://localhost:8080/"
        },
        "id": "TUdhd5rgQiNP",
        "outputId": "2a6d605b-68f6-438f-ca74-3c3cb5935b4d"
      },
      "execution_count": null,
      "outputs": [
        {
          "output_type": "stream",
          "name": "stdout",
          "text": [
            "1\n",
            "2\n",
            "3\n",
            "4\n",
            "5\n"
          ]
        }
      ]
    },
    {
      "cell_type": "code",
      "source": [
        "Text=\"\"\n",
        "while Text !=\"quit\":\n",
        "  Text= input(\"Enter the text OR quit : \")\n",
        "  print(\"You Entered : \",Text)\n"
      ],
      "metadata": {
        "colab": {
          "base_uri": "https://localhost:8080/"
        },
        "id": "R66LjUgyRpC1",
        "outputId": "6281bdc8-ab08-4034-f77f-8633dd766bd0"
      },
      "execution_count": null,
      "outputs": [
        {
          "output_type": "stream",
          "name": "stdout",
          "text": [
            "Enter the text OR quit : I am happy\n",
            "You Entered :  I am happy\n",
            "Enter the text OR quit : I have holidays \n",
            "You Entered :  I have holidays \n",
            "Enter the text OR quit : quit\n",
            "You Entered :  quit\n"
          ]
        }
      ]
    },
    {
      "cell_type": "code",
      "source": [
        "#for loop example\n",
        "names=[\"tom\",\"james\",\"jack\",\"jhon\"]\n",
        "salary=[30000,35000,45000,40000]\n",
        "print(\"Old Salary is : \")\n",
        "print(salary)\n",
        "for i in range (len(names)):\n",
        "  if names[i]==\"jhon\":\n",
        "   increment=salary[i]*0.05\n",
        "   salary[i] += increment\n",
        "print(\"Updated Salary is : \")\n",
        "print(salary)"
      ],
      "metadata": {
        "colab": {
          "base_uri": "https://localhost:8080/"
        },
        "id": "yZaqSWRgSdr5",
        "outputId": "6c0e82da-cd8f-42c9-ee21-8930cd37b246"
      },
      "execution_count": null,
      "outputs": [
        {
          "output_type": "stream",
          "name": "stdout",
          "text": [
            "Old Salary is : \n",
            "[30000, 35000, 45000, 40000]\n",
            "Updated Salary is : \n",
            "[30000, 35000, 45000, 42000.0]\n"
          ]
        }
      ]
    },
    {
      "cell_type": "code",
      "source": [
        "#indexing\n",
        "name=\"John doe\"\n",
        "print(name[1])"
      ],
      "metadata": {
        "id": "X7VDbSqaYI_a",
        "colab": {
          "base_uri": "https://localhost:8080/"
        },
        "outputId": "e6c91d2b-3777-4fea-c364-c629f107f12b"
      },
      "execution_count": null,
      "outputs": [
        {
          "output_type": "stream",
          "name": "stdout",
          "text": [
            "o\n"
          ]
        }
      ]
    },
    {
      "cell_type": "code",
      "source": [
        "PAN=\"AXTY45376\"\n",
        "print(\"X\" in PAN)"
      ],
      "metadata": {
        "colab": {
          "base_uri": "https://localhost:8080/"
        },
        "id": "b45FEhFb2h8Z",
        "outputId": "b6bc7d58-aa8f-40b5-86ca-5dfd8e7daad3"
      },
      "execution_count": null,
      "outputs": [
        {
          "output_type": "stream",
          "name": "stdout",
          "text": [
            "True\n"
          ]
        }
      ]
    },
    {
      "cell_type": "code",
      "source": [
        "print(name.upper())\n",
        "print(name.lower())"
      ],
      "metadata": {
        "colab": {
          "base_uri": "https://localhost:8080/"
        },
        "id": "HPHyY9CB3G5F",
        "outputId": "5f0cdcea-3ea4-4845-ef8c-b9b56264c145"
      },
      "execution_count": null,
      "outputs": [
        {
          "output_type": "stream",
          "name": "stdout",
          "text": [
            "JOHN DOE\n",
            "john doe\n"
          ]
        }
      ]
    },
    {
      "cell_type": "code",
      "source": [
        "print(name.replace(\"J\",\"j\"))"
      ],
      "metadata": {
        "colab": {
          "base_uri": "https://localhost:8080/"
        },
        "id": "3Jp5n4uO3fYr",
        "outputId": "1ae1f8d7-223b-4212-aedf-975053cbeccc"
      },
      "execution_count": null,
      "outputs": [
        {
          "output_type": "stream",
          "name": "stdout",
          "text": [
            "john doe\n"
          ]
        }
      ]
    },
    {
      "cell_type": "code",
      "source": [
        "print(name.split(\" \"))"
      ],
      "metadata": {
        "colab": {
          "base_uri": "https://localhost:8080/"
        },
        "id": "9whEE4hw5jH3",
        "outputId": "4153cf27-7e78-4710-d366-73cdb9874a78"
      },
      "execution_count": null,
      "outputs": [
        {
          "output_type": "stream",
          "name": "stdout",
          "text": [
            "['John', 'doe']\n"
          ]
        }
      ]
    },
    {
      "cell_type": "code",
      "source": [
        "list=[\"India\",\"UK\",\"USA\"]\n",
        "print(list)\n",
        "list[1] = \"Russia\"\n",
        "print(list)"
      ],
      "metadata": {
        "colab": {
          "base_uri": "https://localhost:8080/"
        },
        "id": "MpeR_tF_6IRf",
        "outputId": "3dc34ce1-7081-4b5c-83ce-56f695e3a050"
      },
      "execution_count": null,
      "outputs": [
        {
          "output_type": "stream",
          "name": "stdout",
          "text": [
            "['India', 'UK', 'USA']\n",
            "['India', 'Russia', 'USA']\n"
          ]
        }
      ]
    },
    {
      "cell_type": "code",
      "source": [
        "list=[\"India\",\"Russia\",\"USA\"]\n",
        "list2=[\"Goa\",\"Africa\"]\n",
        "list.append(\"UK\")\n",
        "print(list)"
      ],
      "metadata": {
        "id": "0RKj5JEd6zIV",
        "colab": {
          "base_uri": "https://localhost:8080/"
        },
        "outputId": "3743f941-52c1-4d81-d796-c1fc3e375fbd"
      },
      "execution_count": null,
      "outputs": [
        {
          "output_type": "stream",
          "name": "stdout",
          "text": [
            "['India', 'Russia', 'USA', 'UK']\n"
          ]
        }
      ]
    },
    {
      "cell_type": "code",
      "source": [
        "list.extend(list2)\n",
        "print(list)"
      ],
      "metadata": {
        "colab": {
          "base_uri": "https://localhost:8080/"
        },
        "id": "o90ziwgFWY01",
        "outputId": "2637366c-9d49-4ae6-8ba9-f6085e20c372"
      },
      "execution_count": null,
      "outputs": [
        {
          "output_type": "stream",
          "name": "stdout",
          "text": [
            "['India', 'Russia', 'USA', 'UK', 'Goa', 'Africa', 'Goa', 'Africa']\n"
          ]
        }
      ]
    },
    {
      "cell_type": "code",
      "source": [
        "list=[\"India\",\"Russia\",\"UK\",\"USA\"]\n",
        "list.remove(\"USA\")\n",
        "print(list)"
      ],
      "metadata": {
        "colab": {
          "base_uri": "https://localhost:8080/"
        },
        "id": "RxP2Rv6BVgFO",
        "outputId": "95900c2c-197c-4360-aa8e-7bde6dd0c5a2"
      },
      "execution_count": null,
      "outputs": [
        {
          "output_type": "stream",
          "name": "stdout",
          "text": [
            "['India', 'Russia', 'UK']\n"
          ]
        }
      ]
    },
    {
      "cell_type": "code",
      "source": [
        "list.pop(1)\n",
        "print(list)"
      ],
      "metadata": {
        "colab": {
          "base_uri": "https://localhost:8080/"
        },
        "id": "A0vEQTZTW8fR",
        "outputId": "6751a389-6bb5-436a-d7fa-251f615735b8"
      },
      "execution_count": null,
      "outputs": [
        {
          "output_type": "stream",
          "name": "stdout",
          "text": [
            "['India', 'UK']\n"
          ]
        }
      ]
    },
    {
      "cell_type": "code",
      "source": [
        "list=[\"India\",\"Russia\",\"UK\",\"USA\"]\n",
        "print(list)\n",
        "list.pop(1)\n",
        "print(list)"
      ],
      "metadata": {
        "id": "HmY8DaxzXt_X",
        "colab": {
          "base_uri": "https://localhost:8080/"
        },
        "outputId": "41260205-bc92-484d-b22b-8d78f5bbd76d"
      },
      "execution_count": null,
      "outputs": [
        {
          "output_type": "stream",
          "name": "stdout",
          "text": [
            "['India', 'Russia', 'UK', 'USA']\n",
            "['India', 'UK', 'USA']\n"
          ]
        }
      ]
    },
    {
      "cell_type": "code",
      "source": [
        "list=[\"India\",\"Russia\",\"UK\",\"USA\"]\n",
        "print(list)\n",
        "del list[1]\n",
        "print(list)"
      ],
      "metadata": {
        "colab": {
          "base_uri": "https://localhost:8080/"
        },
        "id": "KdP4axkjQFrI",
        "outputId": "a6dbd3a5-58a3-4b79-a2d8-a1b6bd956a9e"
      },
      "execution_count": null,
      "outputs": [
        {
          "output_type": "stream",
          "name": "stdout",
          "text": [
            "['India', 'Russia', 'UK', 'USA']\n",
            "['India', 'UK', 'USA']\n"
          ]
        }
      ]
    },
    {
      "cell_type": "code",
      "source": [
        "list=[\"India\",\"Russia\",\"UK\",\"USA\"]\n",
        "for i in list:\n",
        "  print(i)"
      ],
      "metadata": {
        "colab": {
          "base_uri": "https://localhost:8080/"
        },
        "id": "nva_blInQV8c",
        "outputId": "be2c182e-1e32-4b0c-bdde-4ad5f09a6169"
      },
      "execution_count": null,
      "outputs": [
        {
          "output_type": "stream",
          "name": "stdout",
          "text": [
            "India\n",
            "Russia\n",
            "UK\n",
            "USA\n"
          ]
        }
      ]
    },
    {
      "cell_type": "code",
      "source": [
        "list=[\"India\",\"Russia\",\"UK\",\"USA\"]\n",
        "for i in range(len(list)):\n",
        " print(list[i])"
      ],
      "metadata": {
        "colab": {
          "base_uri": "https://localhost:8080/"
        },
        "id": "6KY-TQt4RCnR",
        "outputId": "a8ace362-d3f8-4b31-add2-1a1b2a313977"
      },
      "execution_count": null,
      "outputs": [
        {
          "output_type": "stream",
          "name": "stdout",
          "text": [
            "India\n",
            "Russia\n",
            "UK\n",
            "USA\n"
          ]
        }
      ]
    },
    {
      "cell_type": "code",
      "source": [
        "list=[\"India\",\"Russia\",\"UK\",\"USA\"]\n",
        "for i in range(len(list)):\n",
        " print(i)"
      ],
      "metadata": {
        "colab": {
          "base_uri": "https://localhost:8080/"
        },
        "id": "4Dor9W4ARSfQ",
        "outputId": "3fa7cc0c-968d-45ec-a104-204e8a987188"
      },
      "execution_count": null,
      "outputs": [
        {
          "output_type": "stream",
          "name": "stdout",
          "text": [
            "0\n",
            "1\n",
            "2\n",
            "3\n"
          ]
        }
      ]
    },
    {
      "cell_type": "code",
      "source": [
        "list=[\"India\",\"Russia\",\"UK\",\"USA\"]\n",
        "print(len(list))\n",
        "print(range(len(list)))\n",
        "for i in range(len(list)):\n",
        " print(list[i])"
      ],
      "metadata": {
        "colab": {
          "base_uri": "https://localhost:8080/"
        },
        "id": "IQp9TLDoRmUA",
        "outputId": "274f0977-8595-48d0-903e-12b163ddade6"
      },
      "execution_count": null,
      "outputs": [
        {
          "output_type": "stream",
          "name": "stdout",
          "text": [
            "4\n",
            "range(0, 4)\n",
            "India\n",
            "Russia\n",
            "UK\n",
            "USA\n"
          ]
        }
      ]
    },
    {
      "cell_type": "code",
      "source": [
        "list=[\"India\",\"Russia\",\"UK\",\"USA\"]\n",
        "newlist=[i for i in list if 'I' in i]\n",
        "print(newlist)"
      ],
      "metadata": {
        "id": "siSKRbmwS001",
        "colab": {
          "base_uri": "https://localhost:8080/"
        },
        "outputId": "a889c200-2506-45a9-e49c-3b81aa8d1678"
      },
      "execution_count": 10,
      "outputs": [
        {
          "output_type": "stream",
          "name": "stdout",
          "text": [
            "['India']\n"
          ]
        }
      ]
    },
    {
      "cell_type": "code",
      "source": [
        "list=[\"India\",\"Russia\",\"UK\",\"USA\"]\n",
        "newlist=[]\n",
        "for i in list:\n",
        "  if \"R\" in i:\n",
        "    newlist.append(i)\n",
        "print(newlist)"
      ],
      "metadata": {
        "colab": {
          "base_uri": "https://localhost:8080/"
        },
        "id": "H-ahRq7kj51o",
        "outputId": "596d48dc-e28c-4db1-a011-d01c2999f79b"
      },
      "execution_count": 11,
      "outputs": [
        {
          "output_type": "stream",
          "name": "stdout",
          "text": [
            "['Russia']\n"
          ]
        }
      ]
    },
    {
      "cell_type": "code",
      "source": [
        "list=[\"India\",\"Russia\",\"UK\",\"USA\",\"Africa\"]\n",
        "list.sort()\n",
        "print(list)"
      ],
      "metadata": {
        "colab": {
          "base_uri": "https://localhost:8080/"
        },
        "id": "JbQlVo2IkXpO",
        "outputId": "06c2b041-a08f-4a05-af4d-4cac8c0b4000"
      },
      "execution_count": 13,
      "outputs": [
        {
          "output_type": "stream",
          "name": "stdout",
          "text": [
            "['Africa', 'India', 'Russia', 'UK', 'USA']\n"
          ]
        }
      ]
    },
    {
      "cell_type": "code",
      "source": [
        "list=[\"India\",\"Russia\",\"UK\",\"USA\",\"Africa\"]\n",
        "list.sort(reverse=True)\n",
        "print(list)"
      ],
      "metadata": {
        "colab": {
          "base_uri": "https://localhost:8080/"
        },
        "id": "55xJsx7GmY1j",
        "outputId": "70720eef-179e-4e9b-9e0d-60a9ecc60756"
      },
      "execution_count": 14,
      "outputs": [
        {
          "output_type": "stream",
          "name": "stdout",
          "text": [
            "['USA', 'UK', 'Russia', 'India', 'Africa']\n"
          ]
        }
      ]
    },
    {
      "cell_type": "code",
      "source": [
        "list=[\"India\",\"Russia\",\"UK\",\"USA\",\"Africa\"]\n",
        "newlist=list.copy()\n",
        "print(newlist)"
      ],
      "metadata": {
        "colab": {
          "base_uri": "https://localhost:8080/"
        },
        "id": "11JDSj_3nRMg",
        "outputId": "cec6354d-a07b-44e8-c906-22762461deb1"
      },
      "execution_count": 15,
      "outputs": [
        {
          "output_type": "stream",
          "name": "stdout",
          "text": [
            "['India', 'Russia', 'UK', 'USA', 'Africa']\n"
          ]
        }
      ]
    },
    {
      "cell_type": "code",
      "source": [],
      "metadata": {
        "id": "pVQvP9umoDkP"
      },
      "execution_count": null,
      "outputs": []
    }
  ]
}