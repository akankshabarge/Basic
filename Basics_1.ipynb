{
  "nbformat": 4,
  "nbformat_minor": 0,
  "metadata": {
    "colab": {
      "provenance": []
    },
    "kernelspec": {
      "name": "python3",
      "display_name": "Python 3"
    },
    "language_info": {
      "name": "python"
    }
  },
  "cells": [
    {
      "cell_type": "code",
      "source": [],
      "metadata": {
        "id": "GqOowXjTiHwY"
      },
      "execution_count": null,
      "outputs": []
    },
    {
      "cell_type": "code",
      "execution_count": 3,
      "metadata": {
        "colab": {
          "base_uri": "https://localhost:8080/"
        },
        "id": "h4cchtoGhobb",
        "outputId": "85fe9d75-a705-4350-fcd0-c960f88fe935"
      },
      "outputs": [
        {
          "output_type": "stream",
          "name": "stdout",
          "text": [
            "['False', 'None', 'True', 'and', 'as', 'assert', 'async', 'await', 'break', 'class', 'continue', 'def', 'del', 'elif', 'else', 'except', 'finally', 'for', 'from', 'global', 'if', 'import', 'in', 'is', 'lambda', 'nonlocal', 'not', 'or', 'pass', 'raise', 'return', 'try', 'while', 'with', 'yield']\n"
          ]
        }
      ],
      "source": [
        "#pip install keyword\n",
        "import keyword\n",
        "print(keyword.kwlist)"
      ]
    },
    {
      "cell_type": "code",
      "source": [
        "a=10\n",
        "print(a)\n",
        "b=12.49\n",
        "print(b)\n",
        "c=\"13\"\n",
        "print(c)\n",
        "print(type(c))\n",
        "c=15\n",
        "print(c)\n",
        "print(type(c))"
      ],
      "metadata": {
        "colab": {
          "base_uri": "https://localhost:8080/"
        },
        "id": "WYUhiu9Hh26d",
        "outputId": "213f7eb5-0873-4672-fb43-58f131614220"
      },
      "execution_count": 6,
      "outputs": [
        {
          "output_type": "stream",
          "name": "stdout",
          "text": [
            "10\n",
            "12.49\n",
            "13\n",
            "<class 'str'>\n",
            "15\n",
            "<class 'int'>\n"
          ]
        }
      ]
    },
    {
      "cell_type": "code",
      "source": [
        "#list\n",
        "colors=[\"red\",\"white\",\"black\"]\n",
        "colors1=[\"red\",\"blue\",\"pink\"]\n",
        "print(colors)\n",
        "a=[1,3,\"tom\",\"alice\",\"red\"]\n",
        "print(a)\n",
        "stock=['banana','orange','grapes','apple']\n",
        "stock1=['banana','apple','grapes','orange','blueberry']\n",
        "print(stock)"
      ],
      "metadata": {
        "colab": {
          "base_uri": "https://localhost:8080/"
        },
        "id": "LrZyKXias-XR",
        "outputId": "d607be3d-1193-43e1-9673-e18b4c8dce98"
      },
      "execution_count": 19,
      "outputs": [
        {
          "output_type": "stream",
          "name": "stdout",
          "text": [
            "['red', 'white', 'black']\n",
            "[1, 3, 'tom', 'alice', 'red']\n",
            "['banana', 'orange', 'grapes', 'apple']\n"
          ]
        }
      ]
    },
    {
      "cell_type": "code",
      "source": [
        "#tuple\n",
        "colors=(\"red\",\"white\",\"black\")\n",
        "print(colors)\n",
        "colors=(\"red\",\"blue\",\"pink\")\n",
        "print(colors)\n",
        "a=(1,3,\"tom\",\"alice\",\"red\")\n",
        "print(a)"
      ],
      "metadata": {
        "colab": {
          "base_uri": "https://localhost:8080/"
        },
        "id": "B8zvEd1lvowm",
        "outputId": "a005701d-8262-4ad5-856a-be46e54284c3"
      },
      "execution_count": 14,
      "outputs": [
        {
          "output_type": "stream",
          "name": "stdout",
          "text": [
            "('red', 'white', 'black')\n",
            "('red', 'blue', 'pink')\n",
            "(1, 3, 'tom', 'alice', 'red')\n"
          ]
        }
      ]
    },
    {
      "cell_type": "code",
      "source": [
        "#dictionaries\n",
        "my_dict={\"Name\":\"Tom\",\"Subject\":\"English\",\"Roll no\":\"4\"}\n",
        "print(my_dict)"
      ],
      "metadata": {
        "colab": {
          "base_uri": "https://localhost:8080/"
        },
        "id": "L7B2KEw7wCbx",
        "outputId": "6b378d6a-faaa-41b8-d15b-6173b60223c3"
      },
      "execution_count": 12,
      "outputs": [
        {
          "output_type": "stream",
          "name": "stdout",
          "text": [
            "{'Name': 'Tom', 'Subject': 'English', 'Roll no': '4'}\n"
          ]
        }
      ]
    },
    {
      "cell_type": "code",
      "source": [
        "#sets\n",
        "s1={1,2,4,3,6,5,7,8,9,5,5,5,7}\n",
        "print(s1)\n",
        "stock={'banana','orange','grapes','apple','orange','tom'}\n",
        "print(stock)"
      ],
      "metadata": {
        "colab": {
          "base_uri": "https://localhost:8080/"
        },
        "id": "Yak-WdjexIrP",
        "outputId": "4172564a-5303-496c-b93b-f5cc26f382b7"
      },
      "execution_count": 22,
      "outputs": [
        {
          "output_type": "stream",
          "name": "stdout",
          "text": [
            "{1, 2, 3, 4, 5, 6, 7, 8, 9}\n",
            "{'banana', 'grapes', 'orange', 'apple', 'tom'}\n"
          ]
        }
      ]
    },
    {
      "cell_type": "code",
      "source": [
        "#standard input and output\n",
        "a=2\n",
        "b=10\n",
        "c=a+b\n",
        "print(c)\n",
        "print(b)"
      ],
      "metadata": {
        "colab": {
          "base_uri": "https://localhost:8080/"
        },
        "id": "6ZK9Bvzp1MOA",
        "outputId": "7c53823e-8f20-4b24-afaa-0ad8f5821232"
      },
      "execution_count": 25,
      "outputs": [
        {
          "output_type": "stream",
          "name": "stdout",
          "text": [
            "12\n",
            "10\n"
          ]
        }
      ]
    },
    {
      "cell_type": "code",
      "source": [
        "#operators\n",
        "a=10\n",
        "b=20\n",
        "print(a+b)\n",
        "print(a-b)\n",
        "print(a/b)\n",
        "print(b%a)\n"
      ],
      "metadata": {
        "colab": {
          "base_uri": "https://localhost:8080/"
        },
        "id": "KXG_tqJ_3vAp",
        "outputId": "ae9d380c-51c5-4635-ce0a-6188867f6c71"
      },
      "execution_count": 26,
      "outputs": [
        {
          "output_type": "stream",
          "name": "stdout",
          "text": [
            "30\n",
            "-10\n",
            "0.5\n",
            "0\n"
          ]
        }
      ]
    },
    {
      "cell_type": "code",
      "source": [
        "#exponential operator\n",
        "a=2\n",
        "b=3\n",
        "print(a**b)\n",
        "p=3\n",
        "q=2\n",
        "print(p**q)"
      ],
      "metadata": {
        "colab": {
          "base_uri": "https://localhost:8080/"
        },
        "id": "x1_tPABP4bzh",
        "outputId": "5968cfbb-e8ed-4096-ae95-7a1d64938ad9"
      },
      "execution_count": 27,
      "outputs": [
        {
          "output_type": "stream",
          "name": "stdout",
          "text": [
            "8\n",
            "9\n"
          ]
        }
      ]
    },
    {
      "cell_type": "code",
      "source": [
        "#operators\n",
        "a=10\n",
        "b=20\n",
        "print(a>b)\n",
        "print(a==b)\n",
        "print(a<b)"
      ],
      "metadata": {
        "colab": {
          "base_uri": "https://localhost:8080/"
        },
        "id": "LnEMkw3q42Zp",
        "outputId": "5ab5af45-64c5-4431-9802-05aa6098844a"
      },
      "execution_count": 31,
      "outputs": [
        {
          "output_type": "stream",
          "name": "stdout",
          "text": [
            "False\n",
            "False\n",
            "True\n"
          ]
        }
      ]
    },
    {
      "cell_type": "code",
      "source": [
        "#binary operations\n",
        "a=10\n",
        "b=4\n",
        "#and operation\n",
        "print(a&b)\n",
        "print(a^b)\n",
        "print(a|b)"
      ],
      "metadata": {
        "colab": {
          "base_uri": "https://localhost:8080/"
        },
        "id": "GK880ISG5XyA",
        "outputId": "29002171-22cd-4197-e3e4-8ba5023af206"
      },
      "execution_count": 34,
      "outputs": [
        {
          "output_type": "stream",
          "name": "stdout",
          "text": [
            "0\n",
            "14\n",
            "14\n"
          ]
        }
      ]
    },
    {
      "cell_type": "code",
      "source": [
        "#right shift of binary numbers\n",
        "a=10\n",
        "result=a>>2\n",
        "print(result)\n",
        "#left shift of binary number\n",
        "result2=a<<2\n",
        "print(result2)"
      ],
      "metadata": {
        "colab": {
          "base_uri": "https://localhost:8080/"
        },
        "id": "pspemJZY5c3H",
        "outputId": "649569a1-d5ac-4644-8860-21e577af1c4f"
      },
      "execution_count": 36,
      "outputs": [
        {
          "output_type": "stream",
          "name": "stdout",
          "text": [
            "2\n",
            "40\n"
          ]
        }
      ]
    },
    {
      "cell_type": "code",
      "source": [
        "#if statement\n",
        "age=20\n",
        "if age>=18:\n",
        " print(\"Congratulations!,you can drive a car\")\n",
        "else:\n",
        " print(\"sorry!,you cannot drive car due to age limit\")"
      ],
      "metadata": {
        "colab": {
          "base_uri": "https://localhost:8080/"
        },
        "id": "UXhxJ9Oe5gQP",
        "outputId": "16cebe09-eb82-4ad2-eef7-24a28545fff8"
      },
      "execution_count": 39,
      "outputs": [
        {
          "output_type": "stream",
          "name": "stdout",
          "text": [
            "Congratulations!,you can drive a car\n"
          ]
        }
      ]
    },
    {
      "cell_type": "code",
      "source": [
        "#elif statement\n",
        "score=82\n",
        "if score >=90:\n",
        "  print(\"Excellent Performance, A Grade\")\n",
        "elif score >=80:\n",
        "  print(\"very Good performance,B grade\")\n",
        "elif score >=70:\n",
        "  print(\"Good performance, C grade\")\n",
        "else:\n",
        "  print(\"not good performance\")"
      ],
      "metadata": {
        "colab": {
          "base_uri": "https://localhost:8080/"
        },
        "id": "0IQr85RA_mIu",
        "outputId": "65b09109-2268-44a7-da1e-6f6668dd2e93"
      },
      "execution_count": 41,
      "outputs": [
        {
          "output_type": "stream",
          "name": "stdout",
          "text": [
            "very Good performance,B grade\n"
          ]
        }
      ]
    },
    {
      "cell_type": "code",
      "source": [
        "a=10\n",
        "b=20\n",
        "c=30\n",
        "if (a>=b) and (a>=c):\n",
        "  largest=a\n",
        "  print(\"Largest number is:\",a)\n",
        "elif (b>=a) and(b>=c):\n",
        "  largest=b\n",
        "  print(\"largest number is:\",b)\n",
        "else :\n",
        "  largest=c\n",
        "  print(\"largest number is:\",c)"
      ],
      "metadata": {
        "colab": {
          "base_uri": "https://localhost:8080/"
        },
        "id": "K_RcSXXZBNyR",
        "outputId": "049329c8-a766-4200-ce84-974e0562a4ad"
      },
      "execution_count": 43,
      "outputs": [
        {
          "output_type": "stream",
          "name": "stdout",
          "text": [
            "largest number is: 30\n"
          ]
        }
      ]
    },
    {
      "cell_type": "code",
      "source": [
        "choice = input(\"enter your choice add/sub/div/mul\")\n",
        "a=float(input(\"enter a number:\"))\n",
        "b=float(input(\"enter a number:\"))\n",
        "if choice=='add':\n",
        "  print(a,\"+\",b,\"=\",a+b)\n",
        "elif choice=='sub':\n",
        "  print(a,\"-\",b,\"=\",a-b)\n",
        "elif choice=='div':\n",
        "  print(a,\"/\",b,\"=\",a/b)\n",
        "else :\n",
        "  print(a,\"*\",b,\"=\",a*b)"
      ],
      "metadata": {
        "colab": {
          "base_uri": "https://localhost:8080/"
        },
        "id": "My2eZAGmHgHI",
        "outputId": "758a33b8-31b3-4cbf-dd92-0e1c03ea49ff"
      },
      "execution_count": 47,
      "outputs": [
        {
          "output_type": "stream",
          "name": "stdout",
          "text": [
            "enter your choice add/sub/div/muladd\n",
            "enter a number:2\n",
            "enter a number:4\n",
            "2.0 + 4.0 = 6.0\n"
          ]
        }
      ]
    },
    {
      "cell_type": "code",
      "source": [],
      "metadata": {
        "id": "qE32zI1tJP1d"
      },
      "execution_count": null,
      "outputs": []
    }
  ]
}