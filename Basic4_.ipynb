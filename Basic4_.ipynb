{
  "nbformat": 4,
  "nbformat_minor": 0,
  "metadata": {
    "colab": {
      "provenance": []
    },
    "kernelspec": {
      "name": "python3",
      "display_name": "Python 3"
    },
    "language_info": {
      "name": "python"
    }
  },
  "cells": [
    {
      "cell_type": "code",
      "execution_count": null,
      "metadata": {
        "colab": {
          "base_uri": "https://localhost:8080/"
        },
        "id": "RSNRoHKj9AZY",
        "outputId": "cf8e97ee-3744-43fa-e9de-d6fea68f3dfb"
      },
      "outputs": [
        {
          "output_type": "stream",
          "name": "stdout",
          "text": [
            "the result is: 8\n"
          ]
        }
      ],
      "source": [
        "def add_num(num1 , num2):\n",
        "  sum = num1 + num2\n",
        "  return sum\n",
        "\n",
        "\n",
        "result=add_num(5,3)\n",
        "print(\"the result is:\",result)"
      ]
    },
    {
      "cell_type": "code",
      "source": [
        "def cal():\n",
        "  num1 = float(input(\"Enter the first num\"))\n",
        "  num2 = float(input(\"Enter the second num\"))\n",
        "  result = num1+ num2\n",
        "  print(\"addition :   \",result)\n",
        "\n",
        "  result = num1 * num2\n",
        "  print(\"multiplicatin :  \",result)\n",
        "\n",
        "  result = num1 - num2\n",
        "  print(\"subtraction :   \",result)\n",
        "\n",
        "  result=num1/num2\n",
        "  print(\"Division  :  \",result)\n",
        "\n",
        "cal()\n"
      ],
      "metadata": {
        "colab": {
          "base_uri": "https://localhost:8080/"
        },
        "id": "a5M_rGFJUmCO",
        "outputId": "e38e40bd-9391-48c9-a2f1-162cb596abba"
      },
      "execution_count": null,
      "outputs": [
        {
          "output_type": "stream",
          "name": "stdout",
          "text": [
            "Enter the first num10\n",
            "Enter the second num2\n",
            "addition :    12.0\n",
            "multiplicatin :   20.0\n",
            "subtraction :    8.0\n",
            "Division  :   5.0\n"
          ]
        }
      ]
    },
    {
      "cell_type": "code",
      "source": [
        "def format_name():\n",
        "  first_name = input(\"enter first name : \")\n",
        "  last_name = input(\"enter last name : \")\n",
        "\n",
        "  format_first_name = first_name.capitalize()\n",
        "  format_last_name = last_name.capitalize()\n",
        "\n",
        "  print(\"the student nam is :  \",  format_first_name,  format_last_name)\n",
        "format_name()\n",
        "\n"
      ],
      "metadata": {
        "colab": {
          "base_uri": "https://localhost:8080/"
        },
        "id": "UmcKA2uZWhho",
        "outputId": "f735bf57-b785-48a0-bc86-4336608f6a9c"
      },
      "execution_count": null,
      "outputs": [
        {
          "output_type": "stream",
          "name": "stdout",
          "text": [
            "enter first name : aLIcE\n",
            "enter last name : aLteR\n",
            "the student nam is :   Alice Alter\n"
          ]
        }
      ]
    },
    {
      "cell_type": "code",
      "source": [
        "def print_even_num():\n",
        "  n = int(input(\"Enter the numer :  \"))\n",
        "  even_numer=[]\n",
        "  for i in range(1,n+1):\n",
        "    if i % 2 == 0:\n",
        "      even_numer.append(i)\n",
        "  print(\"The even numers up to\" ,n,\"are\" ,even_numer)\n",
        "print_even_num()"
      ],
      "metadata": {
        "colab": {
          "base_uri": "https://localhost:8080/"
        },
        "id": "6nskGKAGmQA9",
        "outputId": "18b0f6db-a7df-4026-f2d8-be13727de753"
      },
      "execution_count": null,
      "outputs": [
        {
          "output_type": "stream",
          "name": "stdout",
          "text": [
            "Enter the numer :  40\n",
            "The even numers up to 40 are [2, 4, 6, 8, 10, 12, 14, 16, 18, 20, 22, 24, 26, 28, 30, 32, 34, 36, 38, 40]\n"
          ]
        }
      ]
    },
    {
      "cell_type": "code",
      "source": [
        "#lambda\n",
        "add = lambda x,y :x+y\n",
        "print(add(2,3))"
      ],
      "metadata": {
        "id": "dxpPlfy3sOsq",
        "colab": {
          "base_uri": "https://localhost:8080/"
        },
        "outputId": "672bce32-1e01-42a5-c17e-2b3cf6375f8b"
      },
      "execution_count": null,
      "outputs": [
        {
          "output_type": "stream",
          "name": "stdout",
          "text": [
            "5\n"
          ]
        }
      ]
    },
    {
      "cell_type": "code",
      "source": [
        "square = lambda x :x**2\n",
        "print(square(8))"
      ],
      "metadata": {
        "colab": {
          "base_uri": "https://localhost:8080/"
        },
        "id": "0tlTIvOS2AWy",
        "outputId": "5be3dec3-0ccb-47f3-aa18-20d64b4d6ace"
      },
      "execution_count": null,
      "outputs": [
        {
          "output_type": "stream",
          "name": "stdout",
          "text": [
            "64\n"
          ]
        }
      ]
    },
    {
      "cell_type": "code",
      "source": [
        "concat = lambda x ,y : x + y\n",
        "print(concat(\"Good\", \" Morning\"))"
      ],
      "metadata": {
        "colab": {
          "base_uri": "https://localhost:8080/"
        },
        "id": "KwIzYgai3IyV",
        "outputId": "adead7a5-60d2-43b5-9b97-003d08c852ff"
      },
      "execution_count": null,
      "outputs": [
        {
          "output_type": "stream",
          "name": "stdout",
          "text": [
            "Good Morning\n"
          ]
        }
      ]
    },
    {
      "cell_type": "code",
      "source": [
        "even_or_odd = lambda x : \"even\" if x % 2 ==0 else \"odd\"\n",
        "print(even_or_odd(7))"
      ],
      "metadata": {
        "colab": {
          "base_uri": "https://localhost:8080/"
        },
        "id": "EI32dXhe3cge",
        "outputId": "32a4bcaf-de8b-4762-8382-a23e0ea39679"
      },
      "execution_count": null,
      "outputs": [
        {
          "output_type": "stream",
          "name": "stdout",
          "text": [
            "odd\n"
          ]
        }
      ]
    },
    {
      "cell_type": "code",
      "source": [
        "max_num = lambda x , y : x if x>y else y\n",
        "print(max_num(14,16))"
      ],
      "metadata": {
        "colab": {
          "base_uri": "https://localhost:8080/"
        },
        "id": "1kSL7_cA4tc6",
        "outputId": "a9655043-73bf-4ddf-c144-72a0a9478a37"
      },
      "execution_count": null,
      "outputs": [
        {
          "output_type": "stream",
          "name": "stdout",
          "text": [
            "16\n"
          ]
        }
      ]
    },
    {
      "cell_type": "code",
      "source": [
        "f= lambda : input(\"enter the num : \")\n",
        "print(f())"
      ],
      "metadata": {
        "id": "aY6ev_Fv5Q0Q",
        "colab": {
          "base_uri": "https://localhost:8080/"
        },
        "outputId": "f76b602c-d3be-4d6c-c706-0400e8fa3aa3"
      },
      "execution_count": null,
      "outputs": [
        {
          "output_type": "stream",
          "name": "stdout",
          "text": [
            "enter the num : 6\n",
            "6\n"
          ]
        }
      ]
    },
    {
      "cell_type": "code",
      "source": [
        "f = lambda x : x * x\n",
        "num = int(input(\"Enter the num : \"))\n",
        "print(f(num))"
      ],
      "metadata": {
        "colab": {
          "base_uri": "https://localhost:8080/"
        },
        "id": "tRhShfh5A0VN",
        "outputId": "ff8ce754-2c15-4f6e-c3b7-152ed6ca7e93"
      },
      "execution_count": null,
      "outputs": [
        {
          "output_type": "stream",
          "name": "stdout",
          "text": [
            "Enter the num : 5\n",
            "25\n"
          ]
        }
      ]
    },
    {
      "cell_type": "code",
      "source": [
        "add = lambda x , y : x + y\n",
        "num1 = int(input( \"enter the 1st num : \"))\n",
        "num2 = int(input( \"enter the 2nd num : \"))\n",
        "print(add(num1, num2))"
      ],
      "metadata": {
        "colab": {
          "base_uri": "https://localhost:8080/"
        },
        "id": "HK0Y0fwTBVag",
        "outputId": "b5afa507-fb54-4788-a698-91c45e4a2ada"
      },
      "execution_count": null,
      "outputs": [
        {
          "output_type": "stream",
          "name": "stdout",
          "text": [
            "enter the 1st num : 5\n",
            "enter the 2nd num : 6\n",
            "11\n"
          ]
        }
      ]
    },
    {
      "cell_type": "code",
      "source": [
        "cal = lambda x : [i ** 2 for i in x]\n",
        "print(cal([1,2,3,4,5,6,7,8,9]))\n"
      ],
      "metadata": {
        "colab": {
          "base_uri": "https://localhost:8080/"
        },
        "id": "fLecVVPbCCnh",
        "outputId": "7d290b8e-a368-42d7-81e8-20375515a2f3"
      },
      "execution_count": null,
      "outputs": [
        {
          "output_type": "stream",
          "name": "stdout",
          "text": [
            "[1, 4, 9, 16, 25, 36, 49, 64, 81]\n"
          ]
        }
      ]
    },
    {
      "cell_type": "code",
      "source": [
        "product = [{'name':'phone','price':10000},\n",
        "           {'name':'phone2','price':20000},\n",
        "           {'name':'phone3','price':5000},\n",
        "           {'name':'phone4','price':15000},]\n",
        "sorted_products = sorted(product,key = lambda x : x['price'])\n",
        "for product in sorted_products:\n",
        "  print(product)"
      ],
      "metadata": {
        "colab": {
          "base_uri": "https://localhost:8080/"
        },
        "id": "YdLW9HqbGhFv",
        "outputId": "045f6f12-91e6-4d47-db19-e80ec05ec04d"
      },
      "execution_count": null,
      "outputs": [
        {
          "output_type": "stream",
          "name": "stdout",
          "text": [
            "{'name': 'phone3', 'price': 5000}\n",
            "{'name': 'phone', 'price': 10000}\n",
            "{'name': 'phone4', 'price': 15000}\n",
            "{'name': 'phone2', 'price': 20000}\n"
          ]
        }
      ]
    },
    {
      "cell_type": "code",
      "source": [
        "#recursion\n",
        "def rec_sum(n):\n",
        "  if n == 1:\n",
        "    return 1\n",
        "  else:\n",
        "    return n + rec_sum(n - 1)\n",
        "print(rec_sum(6))   # 6 + (5+4+3+2+1)"
      ],
      "metadata": {
        "id": "0arrjMyTIyj7",
        "colab": {
          "base_uri": "https://localhost:8080/"
        },
        "outputId": "965cfcce-3837-4902-d1cf-6e6d0336be07"
      },
      "execution_count": null,
      "outputs": [
        {
          "output_type": "stream",
          "name": "stdout",
          "text": [
            "21\n"
          ]
        }
      ]
    },
    {
      "cell_type": "code",
      "source": [
        "  #fabinacci series\n",
        "  def no(n):\n",
        "    if n <= 1:\n",
        "      return n\n",
        "    else:\n",
        "      return no(n-1)+no(n-2)\n",
        "print(no(6))"
      ],
      "metadata": {
        "colab": {
          "base_uri": "https://localhost:8080/"
        },
        "id": "mQKZ0oyOJQjc",
        "outputId": "b31cc705-482d-4296-8344-cd3e013df0d2"
      },
      "execution_count": null,
      "outputs": [
        {
          "output_type": "stream",
          "name": "stdout",
          "text": [
            "8\n"
          ]
        }
      ]
    },
    {
      "cell_type": "code",
      "source": [
        " def no(n):\n",
        "  x,y =0,1\n",
        "  for i in range(n):\n",
        "    print(x)\n",
        "    x , y = y , x + y\n",
        "no(8)\n"
      ],
      "metadata": {
        "colab": {
          "base_uri": "https://localhost:8080/"
        },
        "id": "V6Dj1qHDX67I",
        "outputId": "f9ee928f-9986-4b5a-8988-654df6a80cd5"
      },
      "execution_count": null,
      "outputs": [
        {
          "output_type": "stream",
          "name": "stdout",
          "text": [
            "0\n",
            "1\n",
            "1\n",
            "2\n",
            "3\n",
            "5\n",
            "8\n",
            "13\n"
          ]
        }
      ]
    },
    {
      "cell_type": "code",
      "source": [
        "#expectation handling\n",
        "try:\n",
        "  print (x)"
      ],
      "metadata": {
        "colab": {
          "base_uri": "https://localhost:8080/",
          "height": 141
        },
        "id": "gnIgb_JaFdZn",
        "outputId": "1a7d606f-9be6-4c82-9eb1-ad667140693f"
      },
      "execution_count": null,
      "outputs": [
        {
          "output_type": "error",
          "ename": "SyntaxError",
          "evalue": "ignored",
          "traceback": [
            "\u001b[0;36m  File \u001b[0;32m\"<ipython-input-5-4cb64e14e608>\"\u001b[0;36m, line \u001b[0;32m3\u001b[0m\n\u001b[0;31m    print (x)\u001b[0m\n\u001b[0m             ^\u001b[0m\n\u001b[0;31mSyntaxError\u001b[0m\u001b[0;31m:\u001b[0m incomplete input\n"
          ]
        }
      ]
    },
    {
      "cell_type": "code",
      "source": [
        "try:\n",
        "  print(x)\n",
        "except:\n",
        "  print(\"there is no x\")"
      ],
      "metadata": {
        "colab": {
          "base_uri": "https://localhost:8080/"
        },
        "id": "iUbcsn84NV7T",
        "outputId": "726ff90d-1532-4308-c990-fc214d2dadfc"
      },
      "execution_count": null,
      "outputs": [
        {
          "output_type": "stream",
          "name": "stdout",
          "text": [
            "x\n"
          ]
        }
      ]
    },
    {
      "cell_type": "code",
      "source": [
        "\n"
      ],
      "metadata": {
        "id": "s0IZ5-gMNjcx"
      },
      "execution_count": null,
      "outputs": []
    },
    {
      "cell_type": "code",
      "source": [
        "try:\n",
        "  print(x)\n",
        "except:\n",
        "  print(\"there is no x\")\n",
        "else:\n",
        "  print(\"no error\")"
      ],
      "metadata": {
        "colab": {
          "base_uri": "https://localhost:8080/"
        },
        "outputId": "6643b2eb-b6cf-4aca-b43c-348014976ebf",
        "id": "WQDoygSNNtlE"
      },
      "execution_count": null,
      "outputs": [
        {
          "output_type": "stream",
          "name": "stdout",
          "text": [
            "x\n",
            "no error\n"
          ]
        }
      ]
    },
    {
      "cell_type": "code",
      "source": [
        "x = 10\n",
        "if x < 20:\n",
        "  raise Expection(\"there is an issue\")"
      ],
      "metadata": {
        "id": "YEKlkQOuN0wZ"
      },
      "execution_count": null,
      "outputs": []
    },
    {
      "cell_type": "code",
      "source": [
        "n = int(input(\" enter num1 : \"))\n",
        "d = int(input(\" enter num2 : \"))\n",
        "r = n/d\n",
        "print(\"result : \",r)"
      ],
      "metadata": {
        "colab": {
          "base_uri": "https://localhost:8080/",
          "height": 263
        },
        "id": "iEtdoezPOZcV",
        "outputId": "807d5091-f2d4-4ca6-b25c-56d27fea0c75"
      },
      "execution_count": null,
      "outputs": [
        {
          "name": "stdout",
          "output_type": "stream",
          "text": [
            " enter num1 : 6\n",
            " enter num2 : 0\n"
          ]
        },
        {
          "output_type": "error",
          "ename": "ZeroDivisionError",
          "evalue": "ignored",
          "traceback": [
            "\u001b[0;31m---------------------------------------------------------------------------\u001b[0m",
            "\u001b[0;31mZeroDivisionError\u001b[0m                         Traceback (most recent call last)",
            "\u001b[0;32m<ipython-input-14-a1ea96d0835e>\u001b[0m in \u001b[0;36m<cell line: 3>\u001b[0;34m()\u001b[0m\n\u001b[1;32m      1\u001b[0m \u001b[0mn\u001b[0m \u001b[0;34m=\u001b[0m \u001b[0mint\u001b[0m\u001b[0;34m(\u001b[0m\u001b[0minput\u001b[0m\u001b[0;34m(\u001b[0m\u001b[0;34m\" enter num1 : \"\u001b[0m\u001b[0;34m)\u001b[0m\u001b[0;34m)\u001b[0m\u001b[0;34m\u001b[0m\u001b[0;34m\u001b[0m\u001b[0m\n\u001b[1;32m      2\u001b[0m \u001b[0md\u001b[0m \u001b[0;34m=\u001b[0m \u001b[0mint\u001b[0m\u001b[0;34m(\u001b[0m\u001b[0minput\u001b[0m\u001b[0;34m(\u001b[0m\u001b[0;34m\" enter num2 : \"\u001b[0m\u001b[0;34m)\u001b[0m\u001b[0;34m)\u001b[0m\u001b[0;34m\u001b[0m\u001b[0;34m\u001b[0m\u001b[0m\n\u001b[0;32m----> 3\u001b[0;31m \u001b[0mr\u001b[0m \u001b[0;34m=\u001b[0m \u001b[0mn\u001b[0m\u001b[0;34m/\u001b[0m\u001b[0md\u001b[0m\u001b[0;34m\u001b[0m\u001b[0;34m\u001b[0m\u001b[0m\n\u001b[0m\u001b[1;32m      4\u001b[0m \u001b[0mprint\u001b[0m\u001b[0;34m(\u001b[0m\u001b[0;34m\"result : \"\u001b[0m\u001b[0;34m,\u001b[0m\u001b[0mr\u001b[0m\u001b[0;34m)\u001b[0m\u001b[0;34m\u001b[0m\u001b[0;34m\u001b[0m\u001b[0m\n",
            "\u001b[0;31mZeroDivisionError\u001b[0m: division by zero"
          ]
        }
      ]
    },
    {
      "cell_type": "code",
      "source": [
        "try:\n",
        " n = int(input(\" enter num1 : \"))\n",
        " d = int(input(\" enter num2 : \"))\n",
        " r = n/d\n",
        " print(\"result : \",r)\n",
        "except ZeroDivisionError:\n",
        "  print(\" You have divided by zero\")"
      ],
      "metadata": {
        "colab": {
          "base_uri": "https://localhost:8080/"
        },
        "id": "kzDd9D6KUeF8",
        "outputId": "608804a1-845a-4d26-9637-8e1245fb3c01"
      },
      "execution_count": null,
      "outputs": [
        {
          "output_type": "stream",
          "name": "stdout",
          "text": [
            " enter num1 : 6\n",
            " enter num2 : 0\n",
            " You have divided by zero\n"
          ]
        }
      ]
    },
    {
      "cell_type": "code",
      "source": [
        "x = \"10\"\n",
        "y = 20\n",
        "z = x + y\n",
        "print(\"result : \" , z)"
      ],
      "metadata": {
        "colab": {
          "base_uri": "https://localhost:8080/",
          "height": 228
        },
        "id": "o-OE7jfKUw1M",
        "outputId": "c35bca57-b9ec-4d77-f1e0-0a87d51ce1bd"
      },
      "execution_count": null,
      "outputs": [
        {
          "output_type": "error",
          "ename": "TypeError",
          "evalue": "ignored",
          "traceback": [
            "\u001b[0;31m---------------------------------------------------------------------------\u001b[0m",
            "\u001b[0;31mTypeError\u001b[0m                                 Traceback (most recent call last)",
            "\u001b[0;32m<ipython-input-17-e44acedd8cde>\u001b[0m in \u001b[0;36m<cell line: 3>\u001b[0;34m()\u001b[0m\n\u001b[1;32m      1\u001b[0m \u001b[0mx\u001b[0m \u001b[0;34m=\u001b[0m \u001b[0;34m\"10\"\u001b[0m\u001b[0;34m\u001b[0m\u001b[0;34m\u001b[0m\u001b[0m\n\u001b[1;32m      2\u001b[0m \u001b[0my\u001b[0m \u001b[0;34m=\u001b[0m \u001b[0;36m20\u001b[0m\u001b[0;34m\u001b[0m\u001b[0;34m\u001b[0m\u001b[0m\n\u001b[0;32m----> 3\u001b[0;31m \u001b[0mz\u001b[0m \u001b[0;34m=\u001b[0m \u001b[0mx\u001b[0m \u001b[0;34m+\u001b[0m \u001b[0my\u001b[0m\u001b[0;34m\u001b[0m\u001b[0;34m\u001b[0m\u001b[0m\n\u001b[0m\u001b[1;32m      4\u001b[0m \u001b[0mprint\u001b[0m\u001b[0;34m(\u001b[0m\u001b[0;34m\"result : \"\u001b[0m \u001b[0;34m,\u001b[0m \u001b[0mz\u001b[0m\u001b[0;34m)\u001b[0m\u001b[0;34m\u001b[0m\u001b[0;34m\u001b[0m\u001b[0m\n",
            "\u001b[0;31mTypeError\u001b[0m: can only concatenate str (not \"int\") to str"
          ]
        }
      ]
    },
    {
      "cell_type": "code",
      "source": [
        "try:\n",
        "\n",
        " x = \"10\"\n",
        " y = 20\n",
        " z = x + y\n",
        " print(\"result : \" , z)\n",
        "except TypeError:\n",
        "  print(\"data mismatched\")\n"
      ],
      "metadata": {
        "colab": {
          "base_uri": "https://localhost:8080/"
        },
        "id": "ad5WV1HPVMYB",
        "outputId": "b905da5b-7a3b-4456-c5b0-331e3173f1c1"
      },
      "execution_count": null,
      "outputs": [
        {
          "output_type": "stream",
          "name": "stdout",
          "text": [
            "data mismatched\n"
          ]
        }
      ]
    },
    {
      "cell_type": "code",
      "source": [
        "list1 =[1,2,3,4]\n",
        "print(list1[4])"
      ],
      "metadata": {
        "colab": {
          "base_uri": "https://localhost:8080/",
          "height": 194
        },
        "id": "saU2enhvVlhZ",
        "outputId": "cf442691-e08f-4ad0-9f4f-a662af6189f2"
      },
      "execution_count": null,
      "outputs": [
        {
          "output_type": "error",
          "ename": "IndexError",
          "evalue": "ignored",
          "traceback": [
            "\u001b[0;31m---------------------------------------------------------------------------\u001b[0m",
            "\u001b[0;31mIndexError\u001b[0m                                Traceback (most recent call last)",
            "\u001b[0;32m<ipython-input-19-61f907b399dc>\u001b[0m in \u001b[0;36m<cell line: 2>\u001b[0;34m()\u001b[0m\n\u001b[1;32m      1\u001b[0m \u001b[0mlist1\u001b[0m \u001b[0;34m=\u001b[0m\u001b[0;34m[\u001b[0m\u001b[0;36m1\u001b[0m\u001b[0;34m,\u001b[0m\u001b[0;36m2\u001b[0m\u001b[0;34m,\u001b[0m\u001b[0;36m3\u001b[0m\u001b[0;34m,\u001b[0m\u001b[0;36m4\u001b[0m\u001b[0;34m]\u001b[0m\u001b[0;34m\u001b[0m\u001b[0;34m\u001b[0m\u001b[0m\n\u001b[0;32m----> 2\u001b[0;31m \u001b[0mprint\u001b[0m\u001b[0;34m(\u001b[0m\u001b[0mlist1\u001b[0m\u001b[0;34m[\u001b[0m\u001b[0;36m4\u001b[0m\u001b[0;34m]\u001b[0m\u001b[0;34m)\u001b[0m\u001b[0;34m\u001b[0m\u001b[0;34m\u001b[0m\u001b[0m\n\u001b[0m",
            "\u001b[0;31mIndexError\u001b[0m: list index out of range"
          ]
        }
      ]
    },
    {
      "cell_type": "code",
      "source": [
        "try:\n",
        "\n",
        " list1 =[1,2,3,4]\n",
        " print(list1[4])\n",
        "except IndexError:\n",
        "  print(\"Wrong Index\")"
      ],
      "metadata": {
        "colab": {
          "base_uri": "https://localhost:8080/"
        },
        "id": "Awf-LcNfVwR8",
        "outputId": "a4f10487-0d1d-4a70-9a99-e2faa3380580"
      },
      "execution_count": null,
      "outputs": [
        {
          "output_type": "stream",
          "name": "stdout",
          "text": [
            "Wrong Index\n"
          ]
        }
      ]
    },
    {
      "cell_type": "code",
      "source": [
        "dic = {\"name\":\"alice\",\"age\":22,}\n",
        "print(dic[\"city\"])"
      ],
      "metadata": {
        "colab": {
          "base_uri": "https://localhost:8080/",
          "height": 194
        },
        "id": "TGYXn2Z4V75b",
        "outputId": "9c0291aa-acfb-40f9-f429-1fba6111cc6a"
      },
      "execution_count": null,
      "outputs": [
        {
          "output_type": "error",
          "ename": "KeyError",
          "evalue": "ignored",
          "traceback": [
            "\u001b[0;31m---------------------------------------------------------------------------\u001b[0m",
            "\u001b[0;31mKeyError\u001b[0m                                  Traceback (most recent call last)",
            "\u001b[0;32m<ipython-input-22-eedabecd73d7>\u001b[0m in \u001b[0;36m<cell line: 2>\u001b[0;34m()\u001b[0m\n\u001b[1;32m      1\u001b[0m \u001b[0mdic\u001b[0m \u001b[0;34m=\u001b[0m \u001b[0;34m{\u001b[0m\u001b[0;34m\"name\"\u001b[0m\u001b[0;34m:\u001b[0m\u001b[0;34m\"alice\"\u001b[0m\u001b[0;34m,\u001b[0m\u001b[0;34m\"age\"\u001b[0m\u001b[0;34m:\u001b[0m\u001b[0;36m22\u001b[0m\u001b[0;34m,\u001b[0m\u001b[0;34m}\u001b[0m\u001b[0;34m\u001b[0m\u001b[0;34m\u001b[0m\u001b[0m\n\u001b[0;32m----> 2\u001b[0;31m \u001b[0mprint\u001b[0m\u001b[0;34m(\u001b[0m\u001b[0mdic\u001b[0m\u001b[0;34m[\u001b[0m\u001b[0;34m\"city\"\u001b[0m\u001b[0;34m]\u001b[0m\u001b[0;34m)\u001b[0m\u001b[0;34m\u001b[0m\u001b[0;34m\u001b[0m\u001b[0m\n\u001b[0m",
            "\u001b[0;31mKeyError\u001b[0m: 'city'"
          ]
        }
      ]
    },
    {
      "cell_type": "code",
      "source": [
        "try:\n",
        "  dic = {\"name\":\"alice\",\"age\":22,}\n",
        "  print(dic[\"city\"])\n",
        "except KeyError:\n",
        "  print(\"key error there is no such type of key\")\n",
        "\n"
      ],
      "metadata": {
        "colab": {
          "base_uri": "https://localhost:8080/"
        },
        "id": "-1683gqMWtDX",
        "outputId": "d91518db-e0e8-40ac-c1ef-7330d896dfa0"
      },
      "execution_count": null,
      "outputs": [
        {
          "output_type": "stream",
          "name": "stdout",
          "text": [
            "key error there is no such type of key\n"
          ]
        }
      ]
    },
    {
      "cell_type": "code",
      "source": [
        "try:\n",
        "  import library123\n",
        "except ImportError:\n",
        "  print(\"Particlar library missing\")"
      ],
      "metadata": {
        "colab": {
          "base_uri": "https://localhost:8080/"
        },
        "id": "hKqbz9xoXG53",
        "outputId": "091a4c3f-1b0c-44c9-d7b5-80449ebb615b"
      },
      "execution_count": null,
      "outputs": [
        {
          "output_type": "stream",
          "name": "stdout",
          "text": [
            "Particlar library missing\n"
          ]
        }
      ]
    },
    {
      "cell_type": "code",
      "source": [
        "try:\n",
        "  list1 = [1] * (10 ** 12)\n",
        "except MemoryError:\n",
        "  print(\"insufficint memory\")"
      ],
      "metadata": {
        "id": "BFa6ZjtoaQIz"
      },
      "execution_count": null,
      "outputs": []
    },
    {
      "cell_type": "code",
      "source": [
        "try:\n",
        "  result = 5000 ** 12\n",
        "except OverflowError:\n",
        "  print(\"too big to print\")\n",
        "else:\n",
        "  print(result)"
      ],
      "metadata": {
        "colab": {
          "base_uri": "https://localhost:8080/"
        },
        "id": "PUkIOQAkbRUE",
        "outputId": "010de1c8-e1d1-4108-e581-a1480192faed"
      },
      "execution_count": null,
      "outputs": [
        {
          "output_type": "stream",
          "name": "stdout",
          "text": [
            "244140625000000000000000000000000000000000000\n"
          ]
        }
      ]
    },
    {
      "cell_type": "code",
      "source": [
        "n = 18\n",
        "try:\n",
        "  input_num = int(input(\"Enter the age : \"))\n",
        "  if input_num < n:\n",
        "    raise CheckAge\n",
        "  else :\n",
        "    print(\"You can vote\")\n",
        "except CheckAge:\n",
        "  print(\"you cannot vote\")"
      ],
      "metadata": {
        "id": "Bwn8mhjhb4Jw",
        "colab": {
          "base_uri": "https://localhost:8080/"
        },
        "outputId": "c09198b7-27a1-4f56-e8cd-995845b1e879"
      },
      "execution_count": null,
      "outputs": [
        {
          "output_type": "stream",
          "name": "stdout",
          "text": [
            "Enter the age : 45\n",
            "You can vote\n"
          ]
        }
      ]
    },
    {
      "cell_type": "code",
      "source": [
        "\n",
        ""
      ],
      "metadata": {
        "id": "AKyuKLLD2FBw"
      },
      "execution_count": null,
      "outputs": []
    }
  ]
}