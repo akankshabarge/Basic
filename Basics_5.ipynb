{
  "nbformat": 4,
  "nbformat_minor": 0,
  "metadata": {
    "colab": {
      "provenance": []
    },
    "kernelspec": {
      "name": "python3",
      "display_name": "Python 3"
    },
    "language_info": {
      "name": "python"
    }
  },
  "cells": [
    {
      "cell_type": "code",
      "execution_count": null,
      "metadata": {
        "colab": {
          "base_uri": "https://localhost:8080/"
        },
        "id": "fuMxvlLGg3yA",
        "outputId": "65883d28-3c00-44f7-a685-eeaf98f736e9"
      },
      "outputs": [
        {
          "output_type": "execute_result",
          "data": {
            "text/plain": [
              "7"
            ]
          },
          "metadata": {},
          "execution_count": 2
        }
      ],
      "source": [
        "#logging\n",
        "import logging\n",
        "logging .basicConfig(level= logging.DEBUG)\n",
        "\n",
        "def add(x,y):\n",
        "  logging.debug('variales are %s and %s',x,y)\n",
        "  return x+y\n",
        "\n",
        "add(3,4)\n",
        "\n"
      ]
    },
    {
      "cell_type": "code",
      "source": [
        "import logging\n",
        "logging .basicConfig(level= logging.INFO)\n",
        "\n",
        "def login123(user):\n",
        "  logging.info('user name is %s',user)\n",
        "login123(\"admin\")"
      ],
      "metadata": {
        "id": "v0r3pnVSvXwu"
      },
      "execution_count": null,
      "outputs": []
    },
    {
      "cell_type": "code",
      "source": [
        "import logging\n",
        "logging .basicConfig(level= logging.WARNING)\n",
        "\n",
        "def myaccount(amount):\n",
        "  if amount<40000:\n",
        "     logging.warning('sorry you have low amount,',amount)\n",
        "myaccount(10000)"
      ],
      "metadata": {
        "colab": {
          "base_uri": "https://localhost:8080/"
        },
        "id": "EPCHRYPzwfxW",
        "outputId": "4439878c-b46e-4f5d-b363-ff36925ccef8"
      },
      "execution_count": null,
      "outputs": [
        {
          "output_type": "stream",
          "name": "stderr",
          "text": [
            "--- Logging error ---\n",
            "Traceback (most recent call last):\n",
            "  File \"/usr/lib/python3.10/logging/__init__.py\", line 1100, in emit\n",
            "    msg = self.format(record)\n",
            "  File \"/usr/lib/python3.10/logging/__init__.py\", line 943, in format\n",
            "    return fmt.format(record)\n",
            "  File \"/usr/lib/python3.10/logging/__init__.py\", line 678, in format\n",
            "    record.message = record.getMessage()\n",
            "  File \"/usr/lib/python3.10/logging/__init__.py\", line 368, in getMessage\n",
            "    msg = msg % self.args\n",
            "TypeError: not all arguments converted during string formatting\n",
            "Call stack:\n",
            "  File \"/usr/lib/python3.10/runpy.py\", line 196, in _run_module_as_main\n",
            "    return _run_code(code, main_globals, None,\n",
            "  File \"/usr/lib/python3.10/runpy.py\", line 86, in _run_code\n",
            "    exec(code, run_globals)\n",
            "  File \"/usr/local/lib/python3.10/dist-packages/colab_kernel_launcher.py\", line 37, in <module>\n",
            "    ColabKernelApp.launch_instance()\n",
            "  File \"/usr/local/lib/python3.10/dist-packages/traitlets/config/application.py\", line 992, in launch_instance\n",
            "    app.start()\n",
            "  File \"/usr/local/lib/python3.10/dist-packages/ipykernel/kernelapp.py\", line 619, in start\n",
            "    self.io_loop.start()\n",
            "  File \"/usr/local/lib/python3.10/dist-packages/tornado/platform/asyncio.py\", line 195, in start\n",
            "    self.asyncio_loop.run_forever()\n",
            "  File \"/usr/lib/python3.10/asyncio/base_events.py\", line 603, in run_forever\n",
            "    self._run_once()\n",
            "  File \"/usr/lib/python3.10/asyncio/base_events.py\", line 1909, in _run_once\n",
            "    handle._run()\n",
            "  File \"/usr/lib/python3.10/asyncio/events.py\", line 80, in _run\n",
            "    self._context.run(self._callback, *self._args)\n",
            "  File \"/usr/local/lib/python3.10/dist-packages/tornado/ioloop.py\", line 685, in <lambda>\n",
            "    lambda f: self._run_callback(functools.partial(callback, future))\n",
            "  File \"/usr/local/lib/python3.10/dist-packages/tornado/ioloop.py\", line 738, in _run_callback\n",
            "    ret = callback()\n",
            "  File \"/usr/local/lib/python3.10/dist-packages/tornado/gen.py\", line 825, in inner\n",
            "    self.ctx_run(self.run)\n",
            "  File \"/usr/local/lib/python3.10/dist-packages/tornado/gen.py\", line 786, in run\n",
            "    yielded = self.gen.send(value)\n",
            "  File \"/usr/local/lib/python3.10/dist-packages/ipykernel/kernelbase.py\", line 361, in process_one\n",
            "    yield gen.maybe_future(dispatch(*args))\n",
            "  File \"/usr/local/lib/python3.10/dist-packages/tornado/gen.py\", line 234, in wrapper\n",
            "    yielded = ctx_run(next, result)\n",
            "  File \"/usr/local/lib/python3.10/dist-packages/ipykernel/kernelbase.py\", line 261, in dispatch_shell\n",
            "    yield gen.maybe_future(handler(stream, idents, msg))\n",
            "  File \"/usr/local/lib/python3.10/dist-packages/tornado/gen.py\", line 234, in wrapper\n",
            "    yielded = ctx_run(next, result)\n",
            "  File \"/usr/local/lib/python3.10/dist-packages/ipykernel/kernelbase.py\", line 539, in execute_request\n",
            "    self.do_execute(\n",
            "  File \"/usr/local/lib/python3.10/dist-packages/tornado/gen.py\", line 234, in wrapper\n",
            "    yielded = ctx_run(next, result)\n",
            "  File \"/usr/local/lib/python3.10/dist-packages/ipykernel/ipkernel.py\", line 302, in do_execute\n",
            "    res = shell.run_cell(code, store_history=store_history, silent=silent)\n",
            "  File \"/usr/local/lib/python3.10/dist-packages/ipykernel/zmqshell.py\", line 539, in run_cell\n",
            "    return super(ZMQInteractiveShell, self).run_cell(*args, **kwargs)\n",
            "  File \"/usr/local/lib/python3.10/dist-packages/IPython/core/interactiveshell.py\", line 2975, in run_cell\n",
            "    result = self._run_cell(\n",
            "  File \"/usr/local/lib/python3.10/dist-packages/IPython/core/interactiveshell.py\", line 3030, in _run_cell\n",
            "    return runner(coro)\n",
            "  File \"/usr/local/lib/python3.10/dist-packages/IPython/core/async_helpers.py\", line 78, in _pseudo_sync_runner\n",
            "    coro.send(None)\n",
            "  File \"/usr/local/lib/python3.10/dist-packages/IPython/core/interactiveshell.py\", line 3257, in run_cell_async\n",
            "    has_raised = await self.run_ast_nodes(code_ast.body, cell_name,\n",
            "  File \"/usr/local/lib/python3.10/dist-packages/IPython/core/interactiveshell.py\", line 3473, in run_ast_nodes\n",
            "    if (await self.run_code(code, result,  async_=asy)):\n",
            "  File \"/usr/local/lib/python3.10/dist-packages/IPython/core/interactiveshell.py\", line 3553, in run_code\n",
            "    exec(code_obj, self.user_global_ns, self.user_ns)\n",
            "  File \"<ipython-input-4-975f4913e275>\", line 7, in <cell line: 7>\n",
            "    myaccount(10000)\n",
            "  File \"<ipython-input-4-975f4913e275>\", line 6, in myaccount\n",
            "    logging.warning('sorry you have low amount,',amount)\n",
            "Message: 'sorry you have low amount,'\n",
            "Arguments: (10000,)\n"
          ]
        }
      ]
    },
    {
      "cell_type": "code",
      "source": [
        "import logging\n",
        "logging .basicConfig(level= logging.ERROR)\n",
        "\n",
        "def Dividebyzero(n,d):\n",
        "  try:\n",
        "    result = n/d\n",
        "  except ZeroDivisionError:\n",
        "    logging.error(\"Division y zero\")\n",
        "  else:\n",
        "    print(result)\n",
        "\n",
        "Dividebyzero(5,0)\n"
      ],
      "metadata": {
        "colab": {
          "base_uri": "https://localhost:8080/"
        },
        "id": "YTs7N1VyyMj8",
        "outputId": "129b391d-08df-4484-c322-4c7e2f734746"
      },
      "execution_count": null,
      "outputs": [
        {
          "output_type": "stream",
          "name": "stderr",
          "text": [
            "ERROR:root:Division y zero\n"
          ]
        }
      ]
    },
    {
      "cell_type": "code",
      "source": [
        "import logging\n",
        "logging .basicConfig(level= logging.CRITICAL)\n",
        "\n",
        "def letuscheck(sys):\n",
        "  if sys != 'ok':\n",
        "    logging.critical('system failed')\n",
        "letuscheck(\"you need to handle the issue\")\n"
      ],
      "metadata": {
        "colab": {
          "base_uri": "https://localhost:8080/"
        },
        "id": "k7iFcDDNzaKr",
        "outputId": "4ec9234d-f444-4378-8dcf-7d134153d235"
      },
      "execution_count": null,
      "outputs": [
        {
          "output_type": "stream",
          "name": "stderr",
          "text": [
            "CRITICAL:root:system failed\n"
          ]
        }
      ]
    },
    {
      "cell_type": "code",
      "source": [
        "import logging\n",
        "logging.basicConfig(level=logging.WARNING)\n",
        "def mybalance(amount):\n",
        "  if amount < 4000:\n",
        "    logging.warning('  sorry you have low balance ,your balance is : %s  ',amount)\n",
        "mybalance(1000)"
      ],
      "metadata": {
        "id": "yNfwddox0sQI",
        "colab": {
          "base_uri": "https://localhost:8080/"
        },
        "outputId": "c41b3086-8aad-4167-fd1f-b4a684d789e9"
      },
      "execution_count": null,
      "outputs": [
        {
          "output_type": "stream",
          "name": "stderr",
          "text": [
            "WARNING:root:  sorry you have low balance ,your balance is : 1000  \n"
          ]
        }
      ]
    },
    {
      "cell_type": "code",
      "source": [
        "import logging\n",
        "logging.basicConfig(level=logging.ERROR)\n",
        "def Dividebyzero(n,d):\n",
        "  try:\n",
        "    result = n/d\n",
        "  except ZeroDivisionError:\n",
        "    logging.error(\"division by zero\")\n",
        "  else:\n",
        "    print(results)\n",
        "Dividebyzero(5,0)"
      ],
      "metadata": {
        "colab": {
          "base_uri": "https://localhost:8080/"
        },
        "id": "IO5CoVvRPruL",
        "outputId": "6e1122c0-b14e-4084-f54d-d6def97a9d1f"
      },
      "execution_count": null,
      "outputs": [
        {
          "output_type": "stream",
          "name": "stderr",
          "text": [
            "ERROR:root:division by zero\n"
          ]
        }
      ]
    },
    {
      "cell_type": "code",
      "source": [
        "import logging\n",
        "logging.basicConfig(level=logging.ERROR)\n",
        "def letuschecksys(sys):\n",
        "  if sys !='ok':\n",
        "    logging.critical('system failed %s',sys)\n",
        "letuschecksys(\"you need handle this issue\")"
      ],
      "metadata": {
        "id": "FL5BWbJ0Rwss",
        "colab": {
          "base_uri": "https://localhost:8080/"
        },
        "outputId": "3c54ca66-3ee7-48bf-b32e-7f267200d09f"
      },
      "execution_count": null,
      "outputs": [
        {
          "output_type": "stream",
          "name": "stderr",
          "text": [
            "CRITICAL:root:system failed you need handle this issue\n"
          ]
        }
      ]
    },
    {
      "cell_type": "code",
      "source": [
        "import os\n",
        "print(os.getcwd())\n"
      ],
      "metadata": {
        "colab": {
          "base_uri": "https://localhost:8080/"
        },
        "id": "cVRsgWxoWUbt",
        "outputId": "07aee2ca-4d2f-4b16-b5e8-7959ab25b9d7"
      },
      "execution_count": null,
      "outputs": [
        {
          "output_type": "stream",
          "name": "stdout",
          "text": [
            "/content\n"
          ]
        }
      ]
    },
    {
      "cell_type": "code",
      "source": [
        "\n",
        "import os\n",
        "import logging\n",
        "dir_path = r'/content'\n",
        "log_file = 'sys.txt'\n",
        "full_path = os.path.join(dir_path,log_file)\n",
        "os.makedirs(dir_path,exist_ok=True)\n",
        "logger = logging.getLogger()\n",
        "logger.setLevel(logging.CRITICAL)\n",
        "\n",
        "#file handler\n",
        "\n",
        "handler = logging.FileHandler(full_path)\n",
        "handler.setFormatter(logging.Formatter('%s(asctime)s:%(levelname)s: %(message)s'))\n",
        "logger.addHandler(handler)\n",
        "\n",
        "def letuschecksys(sys):\n",
        "  if sys !='ok':\n",
        "    logging.critical('system Failure:%s ', sys)\n",
        "letuschecksys(\"you need to solve this error\")\n",
        "\n",
        "handler.close()"
      ],
      "metadata": {
        "id": "x9Y8jtNSWyDD",
        "colab": {
          "base_uri": "https://localhost:8080/"
        },
        "outputId": "47547594-5da2-47af-f48a-02a301a4ed10"
      },
      "execution_count": 5,
      "outputs": [
        {
          "output_type": "stream",
          "name": "stderr",
          "text": [
            "CRITICAL:root:system Failure:you need to solve this error \n"
          ]
        }
      ]
    },
    {
      "cell_type": "code",
      "source": [],
      "metadata": {
        "id": "SiDjmuQVGPza"
      },
      "execution_count": null,
      "outputs": []
    }
  ]
}