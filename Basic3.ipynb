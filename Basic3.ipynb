{
  "nbformat": 4,
  "nbformat_minor": 0,
  "metadata": {
    "colab": {
      "provenance": []
    },
    "kernelspec": {
      "name": "python3",
      "display_name": "Python 3"
    },
    "language_info": {
      "name": "python"
    }
  },
  "cells": [
    {
      "cell_type": "code",
      "execution_count": null,
      "metadata": {
        "colab": {
          "base_uri": "https://localhost:8080/"
        },
        "id": "yO4FFgekBaCs",
        "outputId": "c189db64-776d-47c4-fb8d-73ecc3d5032e"
      },
      "outputs": [
        {
          "output_type": "stream",
          "name": "stdout",
          "text": [
            "India\n",
            "UK\n",
            "USA\n",
            "Australia\n",
            "Africa\n"
          ]
        }
      ],
      "source": [
        "#tuple\n",
        "tup1=(\"India\",\"UK\",\"USA\",\"Australia\",\"Africa\")\n",
        "for i in tup1:\n",
        "  print(i)"
      ]
    },
    {
      "cell_type": "code",
      "source": [
        "tup1=(\"India\",\"UK\",\"USA\",\"Australia\",\"Africa\")\n",
        "for i in range(len(tup1)):\n",
        "  print(i)"
      ],
      "metadata": {
        "colab": {
          "base_uri": "https://localhost:8080/"
        },
        "id": "I2efpk5pCRqp",
        "outputId": "2f86e992-b599-405a-cd58-9781af64400f"
      },
      "execution_count": null,
      "outputs": [
        {
          "output_type": "stream",
          "name": "stdout",
          "text": [
            "0\n",
            "1\n",
            "2\n",
            "3\n",
            "4\n"
          ]
        }
      ]
    },
    {
      "cell_type": "code",
      "source": [
        "tup1=(\"India\",\"UK\",\"USA\",\"Australia\",\"Africa\")\n",
        "for i in range(len(tup1)):\n",
        "  print(tup1[i])"
      ],
      "metadata": {
        "colab": {
          "base_uri": "https://localhost:8080/"
        },
        "id": "ZHwKzK8xCiMJ",
        "outputId": "d5fcdc7d-39aa-48d3-b3af-26687a1da754"
      },
      "execution_count": null,
      "outputs": [
        {
          "output_type": "stream",
          "name": "stdout",
          "text": [
            "India\n",
            "UK\n",
            "USA\n",
            "Australia\n",
            "Africa\n"
          ]
        }
      ]
    },
    {
      "cell_type": "code",
      "source": [
        "tup1=(\"India\",\"UK\",\"USA\",\"Australia\",\"Africa\")\n",
        "tup2=(1,2,3,4,5)\n",
        "tup3=tup1+tup2\n",
        "print(tup3)"
      ],
      "metadata": {
        "colab": {
          "base_uri": "https://localhost:8080/"
        },
        "id": "GbFx_UAwDEdj",
        "outputId": "c9de8fd7-2f30-42da-b82d-5b981e908b59"
      },
      "execution_count": null,
      "outputs": [
        {
          "output_type": "stream",
          "name": "stdout",
          "text": [
            "('India', 'UK', 'USA', 'Australia', 'Africa', 1, 2, 3, 4, 5)\n"
          ]
        }
      ]
    },
    {
      "cell_type": "code",
      "source": [
        "set1={1,2,3,4}\n",
        "print(set1)"
      ],
      "metadata": {
        "colab": {
          "base_uri": "https://localhost:8080/"
        },
        "id": "WpA_RQe2DycZ",
        "outputId": "0f3a51a0-b0bb-4004-8c88-44dbb5a45dd8"
      },
      "execution_count": null,
      "outputs": [
        {
          "output_type": "stream",
          "name": "stdout",
          "text": [
            "{1, 2, 3, 4}\n"
          ]
        }
      ]
    },
    {
      "cell_type": "code",
      "source": [
        "set1={1,2,2,3,3,4,5,5,5}\n",
        "print(set1)"
      ],
      "metadata": {
        "colab": {
          "base_uri": "https://localhost:8080/"
        },
        "id": "dxZrIcFwEJsZ",
        "outputId": "869dc117-7fc3-4ba0-a616-a78d4c85a1ab"
      },
      "execution_count": null,
      "outputs": [
        {
          "output_type": "stream",
          "name": "stdout",
          "text": [
            "{1, 2, 3, 4, 5}\n"
          ]
        }
      ]
    },
    {
      "cell_type": "code",
      "source": [
        "  set1={1,2,2,3,3,4,5,5,5}\n",
        "  print(len(set1))"
      ],
      "metadata": {
        "colab": {
          "base_uri": "https://localhost:8080/"
        },
        "id": "22r-u3g2EVGB",
        "outputId": "7712448c-2e2d-4523-df2b-fecfb541f1fa"
      },
      "execution_count": null,
      "outputs": [
        {
          "output_type": "stream",
          "name": "stdout",
          "text": [
            "5\n"
          ]
        }
      ]
    },
    {
      "cell_type": "code",
      "source": [
        "type(tup1)"
      ],
      "metadata": {
        "colab": {
          "base_uri": "https://localhost:8080/"
        },
        "id": "TK28t_EoEmbY",
        "outputId": "873e121b-2d8f-4f4b-be6e-6a327e6384a1"
      },
      "execution_count": null,
      "outputs": [
        {
          "output_type": "execute_result",
          "data": {
            "text/plain": [
              "tuple"
            ]
          },
          "metadata": {},
          "execution_count": 13
        }
      ]
    },
    {
      "cell_type": "code",
      "source": [
        "type(set1)"
      ],
      "metadata": {
        "colab": {
          "base_uri": "https://localhost:8080/"
        },
        "id": "riJjims9EuRh",
        "outputId": "b746badf-2b7a-44fe-e60e-e0519736e86b"
      },
      "execution_count": null,
      "outputs": [
        {
          "output_type": "execute_result",
          "data": {
            "text/plain": [
              "set"
            ]
          },
          "metadata": {},
          "execution_count": 14
        }
      ]
    },
    {
      "cell_type": "code",
      "source": [
        "#union\n",
        "set1={20,30,40,60,10}\n",
        "set2={\"Uk\",\"US\",\"Germany\"}\n",
        "set3=set1.union(set2)\n",
        "print(set3)"
      ],
      "metadata": {
        "colab": {
          "base_uri": "https://localhost:8080/"
        },
        "id": "lTAsG6J1ExqH",
        "outputId": "33a5b1e2-1397-446d-e5a3-d0539d4af69a"
      },
      "execution_count": null,
      "outputs": [
        {
          "output_type": "stream",
          "name": "stdout",
          "text": [
            "{'Germany', 'US', 20, 'Uk', 40, 10, 60, 30}\n"
          ]
        }
      ]
    },
    {
      "cell_type": "code",
      "source": [
        "#update\n",
        "set1={20,30,40,60,10}\n",
        "set2={\"Uk\",\"US\",\"Germany\"}\n",
        "set1.update(set2)\n",
        "print(set1)"
      ],
      "metadata": {
        "colab": {
          "base_uri": "https://localhost:8080/"
        },
        "id": "fFd3XkpDGG9P",
        "outputId": "b4c5901f-0dcf-4deb-ba82-72d71bd5e3b4"
      },
      "execution_count": null,
      "outputs": [
        {
          "output_type": "stream",
          "name": "stdout",
          "text": [
            "{'Germany', 'US', 20, 'Uk', 40, 10, 60, 30}\n"
          ]
        }
      ]
    },
    {
      "cell_type": "code",
      "source": [
        "set1={\"Africa\",\"Germany\",\"UK\",\"Australia\"}\n",
        "set2={\"UK\",\"US\",\"Germany\"}\n",
        "set1.intersection_update(set2)\n",
        "print(set1)"
      ],
      "metadata": {
        "colab": {
          "base_uri": "https://localhost:8080/"
        },
        "id": "p_R2QVfUG097",
        "outputId": "03cb832c-bcb0-42ea-9935-be0de28cba91"
      },
      "execution_count": null,
      "outputs": [
        {
          "output_type": "stream",
          "name": "stdout",
          "text": [
            "{'Germany', 'UK'}\n"
          ]
        }
      ]
    },
    {
      "cell_type": "code",
      "source": [
        "set1={\"Africa\",\"Germany\",\"UK\",\"Australia\"}\n",
        "set2={\"UK\",\"US\",\"Germany\"}\n",
        "set3=set1.intersection(set2)\n",
        "print(set3)"
      ],
      "metadata": {
        "colab": {
          "base_uri": "https://localhost:8080/"
        },
        "id": "GMgHNZQ7IaQK",
        "outputId": "da4ff72f-c007-47b3-b357-fa1ac5c52075"
      },
      "execution_count": null,
      "outputs": [
        {
          "output_type": "stream",
          "name": "stdout",
          "text": [
            "{'Germany', 'UK'}\n"
          ]
        }
      ]
    },
    {
      "cell_type": "code",
      "source": [
        "set1={\"Africa\",\"Germany\",\"UK\",\"Australia\"}\n",
        "set2={\"UK\",\"US\",\"Germany\"}\n",
        "set1.symmetric_difference_update(set2)\n",
        "print(set1)"
      ],
      "metadata": {
        "colab": {
          "base_uri": "https://localhost:8080/"
        },
        "id": "_NYOILmQI1bc",
        "outputId": "5aa91c45-8f56-4d0d-c87a-f23feb4647a5"
      },
      "execution_count": null,
      "outputs": [
        {
          "output_type": "stream",
          "name": "stdout",
          "text": [
            "{'Africa', 'Australia', 'US'}\n"
          ]
        }
      ]
    },
    {
      "cell_type": "code",
      "source": [
        "set1={\"Africa\",\"Germany\",\"UK\",\"Australia\"}\n",
        "set2={\"UK\",\"US\",\"Germany\"}\n",
        "set3=set1.symmetric_difference(set2)\n",
        "print(set3)"
      ],
      "metadata": {
        "colab": {
          "base_uri": "https://localhost:8080/"
        },
        "id": "XoQ5-3VbJU8W",
        "outputId": "6abbe262-fcf4-4c83-e9b7-c1fa4e916798"
      },
      "execution_count": null,
      "outputs": [
        {
          "output_type": "stream",
          "name": "stdout",
          "text": [
            "{'Africa', 'Australia', 'US'}\n"
          ]
        }
      ]
    },
    {
      "cell_type": "code",
      "source": [
        "d1={\"name\":\"Alice\",\"Age\":22,\"city\":\"Delhi\"}\n",
        "print(d1)"
      ],
      "metadata": {
        "colab": {
          "base_uri": "https://localhost:8080/"
        },
        "id": "ROiLZgVhJf-_",
        "outputId": "22e53c5a-c10f-4fd2-eb81-c1559fda146f"
      },
      "execution_count": null,
      "outputs": [
        {
          "output_type": "stream",
          "name": "stdout",
          "text": [
            "{'name': 'Alice', 'Age': 22, 'city': 'Delhi'}\n"
          ]
        }
      ]
    },
    {
      "cell_type": "code",
      "source": [
        "d1={\"name\":\"Alice\",\"Age\":22,\"city\":\"Delhi\",\"city\":\"Milan\"}\n",
        "print(d1)"
      ],
      "metadata": {
        "colab": {
          "base_uri": "https://localhost:8080/"
        },
        "id": "4znyWvf3S6QS",
        "outputId": "7ab40862-6827-49c2-ec8e-aa09f6a320fd"
      },
      "execution_count": null,
      "outputs": [
        {
          "output_type": "stream",
          "name": "stdout",
          "text": [
            "{'name': 'Alice', 'Age': 22, 'city': 'Milan'}\n"
          ]
        }
      ]
    },
    {
      "cell_type": "code",
      "source": [
        "d1={\"name\":\"Alice\",\"Age\":22,\"city\":\"Delhi\"}\n",
        "print(len(d1))"
      ],
      "metadata": {
        "colab": {
          "base_uri": "https://localhost:8080/"
        },
        "id": "QbtsdOOgTN2O",
        "outputId": "a1987b08-b2d0-4648-c6c4-873dc122084d"
      },
      "execution_count": null,
      "outputs": [
        {
          "output_type": "stream",
          "name": "stdout",
          "text": [
            "3\n"
          ]
        }
      ]
    },
    {
      "cell_type": "code",
      "source": [
        "d1={\"name\":\"Alice\",\"Age\":22,\"city\":\"Delhi\"}\n",
        "ky=d1.keys()\n",
        "for k in ky:\n",
        "  print(k)"
      ],
      "metadata": {
        "colab": {
          "base_uri": "https://localhost:8080/"
        },
        "id": "6Tej_XFfTezO",
        "outputId": "2d163fd5-583d-4d28-f0e6-3a5e8c026d94"
      },
      "execution_count": null,
      "outputs": [
        {
          "output_type": "stream",
          "name": "stdout",
          "text": [
            "name\n",
            "Age\n",
            "city\n"
          ]
        }
      ]
    },
    {
      "cell_type": "code",
      "source": [
        "print(type(d1))"
      ],
      "metadata": {
        "colab": {
          "base_uri": "https://localhost:8080/"
        },
        "id": "PJ01mDQ7T_WV",
        "outputId": "a1d8bed2-f162-4565-8ee0-d7313f0582a4"
      },
      "execution_count": null,
      "outputs": [
        {
          "output_type": "stream",
          "name": "stdout",
          "text": [
            "<class 'dict'>\n"
          ]
        }
      ]
    },
    {
      "cell_type": "code",
      "source": [
        "d1={\"name\":\"Alice\",\"Age\":22,\"city\":\"Delhi\"}\n",
        "print(d1)\n",
        "d1[\"name\"]=\"merry\"\n",
        "print(d1)"
      ],
      "metadata": {
        "id": "jApHkO2aUFrE",
        "colab": {
          "base_uri": "https://localhost:8080/"
        },
        "outputId": "0107262c-6ce2-46a1-dd9c-070667e210d1"
      },
      "execution_count": 1,
      "outputs": [
        {
          "output_type": "stream",
          "name": "stdout",
          "text": [
            "{'name': 'Alice', 'Age': 22, 'city': 'Delhi'}\n",
            "{'name': 'merry', 'Age': 22, 'city': 'Delhi'}\n"
          ]
        }
      ]
    },
    {
      "cell_type": "code",
      "source": [
        "d1={\"name\":\"Alice\",\"Age\":22,\"city\":\"Delhi\"}\n",
        "print(d1)\n",
        "d1.update({\"Age\":3})\n",
        "print(d1)"
      ],
      "metadata": {
        "colab": {
          "base_uri": "https://localhost:8080/"
        },
        "id": "Jc8NJgwHmZqh",
        "outputId": "cd3b684c-c43e-473b-bcff-f6d4bdb5aaf3"
      },
      "execution_count": 2,
      "outputs": [
        {
          "output_type": "stream",
          "name": "stdout",
          "text": [
            "{'name': 'Alice', 'Age': 22, 'city': 'Delhi'}\n",
            "{'name': 'Alice', 'Age': 3, 'city': 'Delhi'}\n"
          ]
        }
      ]
    },
    {
      "cell_type": "code",
      "source": [
        "d1={\"name\":\"Alice\",\"Age\":22,\"city\":\"Delhi\"}\n",
        "print(d1)\n",
        "d1[\"grade\"]=\"A\"\n",
        "print(d1)"
      ],
      "metadata": {
        "colab": {
          "base_uri": "https://localhost:8080/"
        },
        "id": "Xk66bCqgmzBA",
        "outputId": "598538f2-c2c2-47d4-a116-6f738fcac5cb"
      },
      "execution_count": 3,
      "outputs": [
        {
          "output_type": "stream",
          "name": "stdout",
          "text": [
            "{'name': 'Alice', 'Age': 22, 'city': 'Delhi'}\n",
            "{'name': 'Alice', 'Age': 22, 'city': 'Delhi', 'grade': 'A'}\n"
          ]
        }
      ]
    },
    {
      "cell_type": "code",
      "source": [
        "d1={\"name\":\"Alice\",\"Age\":22,\"city\":\"Delhi\"}\n",
        "print(d1)\n",
        "d1.pop(\"Age\")\n",
        "print(d1)"
      ],
      "metadata": {
        "colab": {
          "base_uri": "https://localhost:8080/"
        },
        "id": "-GuaQtFWnT--",
        "outputId": "dce3da21-76fc-4580-b655-367ce4f2b736"
      },
      "execution_count": 5,
      "outputs": [
        {
          "output_type": "stream",
          "name": "stdout",
          "text": [
            "{'name': 'Alice', 'Age': 22, 'city': 'Delhi'}\n",
            "{'name': 'Alice', 'city': 'Delhi'}\n"
          ]
        }
      ]
    },
    {
      "cell_type": "code",
      "source": [
        "d1={\"name\":\"Alice\",\"Age\":22,\"city\":\"Delhi\"}\n",
        "print(d1)\n",
        "del d1[\"Age\"]\n",
        "print(d1)"
      ],
      "metadata": {
        "colab": {
          "base_uri": "https://localhost:8080/"
        },
        "id": "oV2w367aoPUI",
        "outputId": "a82dc1db-6abf-499a-b3d2-5f849c619a66"
      },
      "execution_count": 6,
      "outputs": [
        {
          "output_type": "stream",
          "name": "stdout",
          "text": [
            "{'name': 'Alice', 'Age': 22, 'city': 'Delhi'}\n",
            "{'name': 'Alice', 'city': 'Delhi'}\n"
          ]
        }
      ]
    },
    {
      "cell_type": "code",
      "source": [
        "d1={\"name\":\"Alice\",\"Age\":22,\"city\":\"Delhi\"}\n",
        "print(d1)\n",
        "d1.clear()\n",
        "print(d1)"
      ],
      "metadata": {
        "colab": {
          "base_uri": "https://localhost:8080/"
        },
        "id": "2kyex4eLohAg",
        "outputId": "2eed5ce5-ddc6-48de-b783-2637be3ee67a"
      },
      "execution_count": 7,
      "outputs": [
        {
          "output_type": "stream",
          "name": "stdout",
          "text": [
            "{'name': 'Alice', 'Age': 22, 'city': 'Delhi'}\n",
            "{}\n"
          ]
        }
      ]
    },
    {
      "cell_type": "code",
      "source": [
        " d1={\"name\":\"Alice\",\"Age\":22,\"city\":\"Delhi\"}\n",
        "for i in d1:\n",
        "  print(i)"
      ],
      "metadata": {
        "colab": {
          "base_uri": "https://localhost:8080/"
        },
        "id": "ZRfesWldo_mM",
        "outputId": "0472b67c-8f2d-47bc-ddd9-16fb4c697fbb"
      },
      "execution_count": 9,
      "outputs": [
        {
          "output_type": "stream",
          "name": "stdout",
          "text": [
            "name\n",
            "Age\n",
            "city\n"
          ]
        }
      ]
    },
    {
      "cell_type": "code",
      "source": [],
      "metadata": {
        "id": "Ix9sBsH1tK3c"
      },
      "execution_count": null,
      "outputs": []
    },
    {
      "cell_type": "code",
      "source": [
        " d1={\"name\":\"Alice\",\"Age\":22,\"city\":\"Delhi\"}\n",
        "for i in d1.values():\n",
        "  print(i)"
      ],
      "metadata": {
        "colab": {
          "base_uri": "https://localhost:8080/"
        },
        "outputId": "c335e7cb-bebd-4cc6-a5b6-3edf3ba9cff9",
        "id": "1k56jn0TtTA6"
      },
      "execution_count": 10,
      "outputs": [
        {
          "output_type": "stream",
          "name": "stdout",
          "text": [
            "Alice\n",
            "22\n",
            "Delhi\n"
          ]
        }
      ]
    },
    {
      "cell_type": "code",
      "source": [
        "def Firstfunction():\n",
        "  print(\"Hello\")\n",
        "\n",
        "#calling function\n",
        "Firstfunction()"
      ],
      "metadata": {
        "colab": {
          "base_uri": "https://localhost:8080/"
        },
        "id": "qaFq7z_TtV5L",
        "outputId": "faaf0889-1a7b-4e83-f770-6bfe77c99665"
      },
      "execution_count": 11,
      "outputs": [
        {
          "output_type": "stream",
          "name": "stdout",
          "text": [
            "Hello\n"
          ]
        }
      ]
    },
    {
      "cell_type": "code",
      "source": [],
      "metadata": {
        "id": "hD3Zaqnb2Xl4"
      },
      "execution_count": null,
      "outputs": []
    },
    {
      "cell_type": "code",
      "source": [
        "def Firstfunction(name):\n",
        "  print(\"Hello \" + name)\n",
        "\n",
        "#calling function\n",
        "Firstfunction(\"john\")"
      ],
      "metadata": {
        "colab": {
          "base_uri": "https://localhost:8080/"
        },
        "outputId": "d564cdc1-e5a3-49b7-b3fc-93ca428ef1d5",
        "id": "tUBWKsXJo8Bs"
      },
      "execution_count": 3,
      "outputs": [
        {
          "output_type": "stream",
          "name": "stdout",
          "text": [
            "Hello john\n"
          ]
        }
      ]
    },
    {
      "cell_type": "code",
      "source": [],
      "metadata": {
        "id": "nG4ZWP65pJ0l"
      },
      "execution_count": null,
      "outputs": []
    }
  ]
}